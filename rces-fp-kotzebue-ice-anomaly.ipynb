{
 "cells": [
  {
   "cell_type": "code",
   "execution_count": 1,
   "metadata": {},
   "outputs": [],
   "source": [
    "import numpy as np\n",
    "import pandas as pd\n",
    "import xarray as xr\n",
    "import dask.array as da\n",
    "\n",
    "from matplotlib import pyplot as plt\n",
    "%matplotlib inline"
   ]
  },
  {
   "cell_type": "markdown",
   "metadata": {},
   "source": [
    "Initialize the spatial and temporal limits for this analysis - will be applied to all datasets"
   ]
  },
  {
   "cell_type": "code",
   "execution_count": 2,
   "metadata": {},
   "outputs": [],
   "source": [
    "lat_min, lat_max = 65.479474, 68.708048\n",
    "lon_min, lon_max = -169.259880, -160.007140\n",
    "\n",
    "start_date = pd.datetime(2003,1,1)\n",
    "end_date = pd.datetime(2018,11,1)\n",
    "ddts = pd.date_range(start=start_date,end=end_date) #\"daily-date-times\""
   ]
  },
  {
   "cell_type": "markdown",
   "metadata": {},
   "source": [
    "# SST Data Products\n",
    "\n",
    "## SST: MODIS\n",
    "\n",
    "Pulling MODIS sst data from https://opendap.jpl.nasa.gov/opendap/OceanTemperature/modis/L3/aqua/11um/v2014.0/4km/daily/contents.html\n",
    "\n",
    "Filename conventions found at: ftp://podaac-ftp.jpl.nasa.gov/allData/modis/L3/docs/modis_fileinfo.txt"
   ]
  },
  {
   "cell_type": "code",
   "execution_count": 3,
   "metadata": {},
   "outputs": [],
   "source": [
    "#create list of MODIS SST OpenDAP urls for all days in ddts\n",
    "url_day = []\n",
    "url_night = []\n",
    "for day in ddts:\n",
    "    yearday = day.strftime('%j')\n",
    "    year = day.strftime('%Y')\n",
    "    url_day.append(f'https://opendap.jpl.nasa.gov/opendap/OceanTemperature/modis/L3/aqua/11um/v2014.0/4km/daily/{year}/{yearday}/A{year}{yearday}.L3m_DAY_SST_sst_4km.nc')\n",
    "    url_night.append(f'https://opendap.jpl.nasa.gov/opendap/OceanTemperature/modis/L3/aqua/11um/v2014.0/4km/daily/{year}/{yearday}/A{year}{yearday}.L3m_DAY_NSST_sst_4km.nc')\n",
    " "
   ]
  },
  {
   "cell_type": "code",
   "execution_count": 19,
   "metadata": {},
   "outputs": [],
   "source": [
    "#Write a for loop to generate urls. Iterate through years and days 1-365, then throw a conditional at the end of it for the leap years. \n",
    "url_day = []\n",
    "url_night = []\n",
    "years = np.arange(2003, 2019)\n",
    "for year in years:\n",
    "    #we have 4 cases for the days: 1-digit, 2-digit, 3-digit, and leap year\n",
    "    for day in np.arange(1,10):   \n",
    "        url_day.append(f'https://opendap.jpl.nasa.gov/opendap/OceanTemperature/modis/L3/aqua/11um/v2014.0/4km/daily/{year}/00{day}/A{year}00{day}.L3m_DAY_SST_sst_4km.nc')\n",
    "        url_night.append(f'https://opendap.jpl.nasa.gov/opendap/OceanTemperature/modis/L3/aqua/11um/v2014.0/4km/daily/{year}/00{day}/A{year}00{day}.L3m_DAY_NSST_sst_4km.nc')\n",
    "    \n",
    "    for day in np.arange(10,100):\n",
    "        url_day.append(f'https://opendap.jpl.nasa.gov/opendap/OceanTemperature/modis/L3/aqua/11um/v2014.0/4km/daily/{year}/0{day}/A{year}0{day}.L3m_DAY_SST_sst_4km.nc')\n",
    "        url_night.append(f'https://opendap.jpl.nasa.gov/opendap/OceanTemperature/modis/L3/aqua/11um/v2014.0/4km/daily/{year}/0{day}/A{year}0{day}.L3m_DAY_NSST_sst_4km.nc')\n",
    "    \n",
    "    for day in np.arange(100,366):\n",
    "        url_day.append(f'https://opendap.jpl.nasa.gov/opendap/OceanTemperature/modis/L3/aqua/11um/v2014.0/4km/daily/{year}/{day}/A{year}{day}.L3m_DAY_SST_sst_4km.nc')\n",
    "        url_night.append(f'https://opendap.jpl.nasa.gov/opendap/OceanTemperature/modis/L3/aqua/11um/v2014.0/4km/daily/{year}/{day}/A{year}{day}.L3m_DAY_NSST_sst_4km.nc')\n",
    "    \n",
    "    if year==2004 or year==2008 or year==2012 or year==2016:\n",
    "        url_day.append(f'https://opendap.jpl.nasa.gov/opendap/OceanTemperature/modis/L3/aqua/11um/v2014.0/4km/daily/{year}/366/A{year}366.L3m_DAY_SST_sst_4km.nc')\n",
    "        url_night.append(f'https://opendap.jpl.nasa.gov/opendap/OceanTemperature/modis/L3/aqua/11um/v2014.0/4km/daily/{year}/366/A{year}366.L3m_DAY_NSST_sst_4km.nc')"
   ]
  },
  {
   "cell_type": "code",
   "execution_count": 67,
   "metadata": {},
   "outputs": [],
   "source": []
  },
  {
   "cell_type": "code",
   "execution_count": 70,
   "metadata": {},
   "outputs": [],
   "source": []
  },
  {
   "cell_type": "code",
   "execution_count": 75,
   "metadata": {},
   "outputs": [
    {
     "name": "stderr",
     "output_type": "stream",
     "text": [
      "100%|██████████| 5783/5783 [4:24:36<00:00,  3.68s/it]\n"
     ]
    },
    {
     "data": {
      "text/plain": [
       "<xarray.Dataset>\n",
       "Dimensions:   (eightbitcolor: 256, lat: 77, lon: 222, rgb: 3, time: 5784)\n",
       "Coordinates:\n",
       "  * lat       (lat) float32 68.68749 68.64583 68.604164 68.56249 68.52083 ...\n",
       "  * lon       (lon) float32 -169.22917 -169.1875 -169.14584 -169.10417 ...\n",
       "  * time      (time) datetime64[ns] 2003-01-01T13:30:05 2003-01-02T13:35:05 ...\n",
       "Dimensions without coordinates: eightbitcolor, rgb\n",
       "Data variables:\n",
       "    palette   (time, rgb, eightbitcolor) int8 91 10 118 99 9 -117 112 7 -85 ...\n",
       "    sst       (time, lat, lon) float32 nan nan nan nan nan nan nan nan nan ...\n",
       "    qual_sst  (time, lat, lon) float32 nan nan nan nan nan nan nan nan nan ..."
      ]
     },
     "execution_count": 75,
     "metadata": {},
     "output_type": "execute_result"
    }
   ],
   "source": [
    "#DAYTIME IMPORTING\n",
    "#import and slice the first one before getting into a for loop\n",
    "sst_mod_day = xr.open_dataset(url_day[0]).sel(lat=slice(lat_max,lat_min), lon=slice(lon_min,lon_max)) #latitude variable is monotonically decreasing from 90 down.\n",
    "#add new time dimensional coordinate\n",
    "startTime = pd.to_datetime(sst_mod_day.attrs['time_coverage_start'])\n",
    "endTime = pd.to_datetime(sst_mod_day.attrs['time_coverage_end'])\n",
    "midTime = (endTime - startTime)/2 + startTime\n",
    "sst_mod_day = sst_mod_day.assign_coords(time=midTime)\n",
    "sst_mod_day = sst_mod_day.expand_dims('time')\n",
    "\n",
    "#now do the rest of them in a for loop\n",
    "from tqdm import tqdm #progress bar for sanity\n",
    "for url in tqdm(url_day[1:]):\n",
    "    #import and slice\n",
    "    ds_day = xr.open_dataset(url).sel(lat=slice(lat_max,lat_min), lon=slice(lon_min,lon_max)) #latitude variable is monotonically decreasing from 90 down.\n",
    "    #add new time dimensional coordinate\n",
    "    startTime = pd.to_datetime(ds_day.attrs['time_coverage_start'])\n",
    "    endTime = pd.to_datetime(ds_day.attrs['time_coverage_end'])\n",
    "    midTime = (endTime - startTime)/2 + startTime\n",
    "    ds_day = ds_day.assign_coords(time=midTime)\n",
    "    ds_day = ds_day.expand_dims('time')    \n",
    "    \n",
    "    sst_mod_day = xr.auto_combine([sst_mod_day,ds_day],concat_dim='time')\n",
    "\n",
    "sst_mod_day\n",
    "    "
   ]
  },
  {
   "cell_type": "code",
   "execution_count": 5,
   "metadata": {},
   "outputs": [
    {
     "name": "stderr",
     "output_type": "stream",
     "text": [
      "100%|██████████| 5783/5783 [3:25:33<00:00,  2.45s/it]\n"
     ]
    }
   ],
   "source": [
    "#NIGHTTIME IMPORTING\n",
    "#import and slice the first one before getting into a for loop\n",
    "sst_mod_night = xr.open_dataset(url_night[0]).sel(lat=slice(lat_max,lat_min), lon=slice(lon_min,lon_max)) #latitude variable is monotonically decreasing from 90 down.\n",
    "#add new time dimensional coordinate\n",
    "startTime = pd.to_datetime(sst_mod_night.attrs['time_coverage_start'])\n",
    "endTime = pd.to_datetime(sst_mod_night.attrs['time_coverage_end'])\n",
    "midTime = (endTime - startTime)/2 + startTime\n",
    "sst_mod_night = sst_mod_night.assign_coords(time=midTime)\n",
    "sst_mod_night = sst_mod_night.expand_dims('time')\n",
    "\n",
    "#now do the rest of them in a for loop\n",
    "from tqdm import tqdm #progress bar for sanity\n",
    "for url in tqdm(url_night[1:]):\n",
    "    #import and slice\n",
    "    ds_night = xr.open_dataset(url).sel(lat=slice(lat_max,lat_min), lon=slice(lon_min,lon_max)) #latitude variable is monotonically decreasing from 90 down.\n",
    "    #add new time dimensional coordinate\n",
    "    startTime = pd.to_datetime(ds_night.attrs['time_coverage_start'])\n",
    "    endTime = pd.to_datetime(ds_night.attrs['time_coverage_end'])\n",
    "    midTime = (endTime - startTime)/2 + startTime\n",
    "    ds_night = ds_night.assign_coords(time=midTime)\n",
    "    ds_night = ds_night.expand_dims('time')    \n",
    "    \n",
    "    sst_mod_night = xr.auto_combine([sst_mod_night,ds_night],concat_dim='time')\n",
    "\n",
    "sst_mod_night.to_netcdf(path='sst_modis_night.nc')\n",
    "    "
   ]
  },
  {
   "cell_type": "code",
   "execution_count": 77,
   "metadata": {},
   "outputs": [],
   "source": [
    "sst_mod_day.to_netcdf(path='sst_modis_day.nc')"
   ]
  },
  {
   "cell_type": "markdown",
   "metadata": {},
   "source": [
    "# All Importing Above can be skipped by running the below line"
   ]
  },
  {
   "cell_type": "code",
   "execution_count": 78,
   "metadata": {},
   "outputs": [],
   "source": [
    "sst_mod_day = xr.open_dataset('sst_modis_day.nc')"
   ]
  },
  {
   "cell_type": "markdown",
   "metadata": {},
   "source": [
    "## SST: Reynolds\n",
    "\n",
    "Reynolds' Paper: https://journals.ametsoc.org/doi/full/10.1175/2007JCLI1824.1\n",
    "\n",
    "Data Access: https://www.ncei.noaa.gov/thredds/catalog/OisstBase/NetCDF/AVHRR/catalog.html"
   ]
  },
  {
   "cell_type": "code",
   "execution_count": 5,
   "metadata": {},
   "outputs": [],
   "source": [
    "#create list of Reynolds SST OpenDAP urls for all days in ddts\n",
    "url_rey = []\n",
    "for day in ddts:\n",
    "    yearmonth = day.strftime('%Y%m')\n",
    "    yearmonthday = day.strftime('%Y%m%d')\n",
    "    url_rey.append(f'http://www.ncei.noaa.gov/thredds/dodsC/OisstBase/NetCDF/AVHRR/{yearmonth}/avhrr-only-v2.{yearmonthday}.nc')"
   ]
  },
  {
   "cell_type": "code",
   "execution_count": 6,
   "metadata": {},
   "outputs": [
    {
     "data": {
      "text/plain": [
       "<matplotlib.collections.QuadMesh at 0x7fd982a135c0>"
      ]
     },
     "execution_count": 6,
     "metadata": {},
     "output_type": "execute_result"
    },
    {
     "data": {
      "image/png": "[encoded data removed]",
      "text/plain": [
       "<Figure size 432x288 with 2 Axes>"
      ]
     },
     "metadata": {},
     "output_type": "display_data"
    }
   ],
   "source": [
    "reynolds = xr.open_dataset(url_rey[3000])\n",
    "reynolds.sel(lat=slice(lat_min,lat_max), lon=slice((lon_min+360)%360, (lon_max+360)%360)).sst.plot() #lon values are 0-360 in this dataset"
   ]
  },
  {
   "cell_type": "code",
   "execution_count": 8,
   "metadata": {},
   "outputs": [
    {
     "data": {
      "text/plain": [
       "<xarray.Dataset>\n",
       "Dimensions:  (lat: 13, lon: 37, time: 1, zlev: 1)\n",
       "Coordinates:\n",
       "  * time     (time) datetime64[ns] 2003-01-01\n",
       "  * zlev     (zlev) float32 0.0\n",
       "  * lat      (lat) float32 65.625 65.875 66.125 66.375 66.625 66.875 67.125 ...\n",
       "  * lon      (lon) float32 190.875 191.125 191.375 191.625 191.875 192.125 ...\n",
       "Data variables:\n",
       "    sst      (time, zlev, lat, lon) float32 ...\n",
       "    anom     (time, zlev, lat, lon) float32 ...\n",
       "    err      (time, zlev, lat, lon) float32 ...\n",
       "    ice      (time, zlev, lat, lon) float32 ...\n",
       "Attributes:\n",
       "    Conventions:    CF-1.0\n",
       "    title:          Daily-OI-V2, final, Data (Ship, Buoy, AVHRR, GSFC-ice)\n",
       "    History:        Version 2.0\n",
       "    creation_date:  2011-03-08\n",
       "    source_data:    ESRL ICOADS, AVHRR17, GSFC ice\n",
       "    Source:         NOAA/National Climatic Data Center\n",
       "    Contact:        Dick Reynolds, email: Richard.W.Reynolds@noaa.gov & Chuny..."
      ]
     },
     "execution_count": 8,
     "metadata": {},
     "output_type": "execute_result"
    }
   ],
   "source": [
    "sst_rey = xr.open_dataset(url_rey[0]).sel(lat=slice(lat_min,lat_max), lon=slice((lon_min+360)%360, (lon_max+360)%360)) #lon values are 0-360 in this dataset"
   ]
  },
  {
   "cell_type": "code",
   "execution_count": null,
   "metadata": {},
   "outputs": [],
   "source": [
    "sst_rey = xr.open_dataset(url_rey[0]).sel(lat=slice(lat_min,lat_max), lon=slice((lon_min+360)%360, (lon_max+360)%360)) #lon values are 0-360 in this dataset\n",
    "\n",
    "from tqdm import tqdm #progress bar for sanity\n",
    "\n",
    "for url in tqdm(url_rey[3447:]):\n",
    "    ds_rey = xr.open_dataset(url).sel(lat=slice(lat_min,lat_max), lon=slice((lon_min+360)%360, (lon_max+360)%360))   \n",
    "    sst_rey = xr.auto_combine([sst_rey,ds_rey])\n",
    "    \n",
    "sst_rey\n",
    "    "
   ]
  },
  {
   "cell_type": "code",
   "execution_count": 26,
   "metadata": {},
   "outputs": [
    {
     "data": {
      "text/plain": [
       "<xarray.Dataset>\n",
       "Dimensions:  (lat: 13, lon: 37, time: 5783, zlev: 1)\n",
       "Coordinates:\n",
       "  * zlev     (zlev) float32 0.0\n",
       "  * lat      (lat) float32 65.625 65.875 66.125 66.375 66.625 66.875 67.125 ...\n",
       "  * lon      (lon) float32 190.875 191.125 191.375 191.625 191.875 192.125 ...\n",
       "  * time     (time) datetime64[ns] 2003-01-01 2003-01-02 2003-01-03 ...\n",
       "Data variables:\n",
       "    sst      (time, zlev, lat, lon) float32 -1.13 -1.11 -1.09 -1.03 ...\n",
       "    anom     (time, zlev, lat, lon) float32 0.04 0.049999997 0.07 0.12 0.21 ...\n",
       "    err      (time, zlev, lat, lon) float32 0.13 0.13 0.13 0.13 0.13 nan nan ...\n",
       "    ice      (time, zlev, lat, lon) float32 0.85999995 0.85999995 0.82 0.83 ..."
      ]
     },
     "execution_count": 26,
     "metadata": {},
     "output_type": "execute_result"
    }
   ],
   "source": [
    "sst_rey"
   ]
  },
  {
   "cell_type": "code",
   "execution_count": 33,
   "metadata": {},
   "outputs": [],
   "source": [
    "sst_rey.to_netcdf(path='sst_reynolds.nc')"
   ]
  },
  {
   "cell_type": "markdown",
   "metadata": {},
   "source": [
    "# All Importing Above can be skipped by running the below line"
   ]
  },
  {
   "cell_type": "code",
   "execution_count": null,
   "metadata": {},
   "outputs": [],
   "source": [
    "sst_rey = xr.open_dataset('sst_reynolds.nc')\n",
    "sst_rey"
   ]
  },
  {
   "cell_type": "code",
   "execution_count": null,
   "metadata": {},
   "outputs": [],
   "source": []
  },
  {
   "cell_type": "code",
   "execution_count": null,
   "metadata": {},
   "outputs": [],
   "source": []
  },
  {
   "cell_type": "code",
   "execution_count": null,
   "metadata": {},
   "outputs": [],
   "source": []
  },
  {
   "cell_type": "markdown",
   "metadata": {},
   "source": [
    "# Sea Ice Concentration Data Products\n",
    "\n",
    "## Sea Ice: AMSR2"
   ]
  },
  {
   "cell_type": "code",
   "execution_count": null,
   "metadata": {},
   "outputs": [],
   "source": []
  },
  {
   "cell_type": "code",
   "execution_count": null,
   "metadata": {},
   "outputs": [],
   "source": []
  },
  {
   "cell_type": "code",
   "execution_count": null,
   "metadata": {},
   "outputs": [],
   "source": []
  },
  {
   "cell_type": "markdown",
   "metadata": {},
   "source": [
    "## Sea Ice: Polar Pangeo"
   ]
  },
  {
   "cell_type": "code",
   "execution_count": null,
   "metadata": {},
   "outputs": [],
   "source": []
  }
 ],
 "metadata": {
  "kernelspec": {
   "display_name": "Python 3",
   "language": "python",
   "name": "python3"
  },
  "language_info": {
   "codemirror_mode": {
    "name": "ipython",
    "version": 3
   },
   "file_extension": ".py",
   "mimetype": "text/x-python",
   "name": "python",
   "nbconvert_exporter": "python",
   "pygments_lexer": "ipython3",
   "version": "3.6.6"
  }
 },
 "nbformat": 4,
 "nbformat_minor": 2
}
