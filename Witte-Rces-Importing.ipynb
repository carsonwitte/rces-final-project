{
 "cells": [
  {
   "cell_type": "markdown",
   "metadata": {},
   "source": [
    "# Importing, subsetting, and saving routines to generate all data files found in this repository\n",
    "\n",
    "This notebook will take ~10hrs to run, and the SSMI has to be subsetted manually to get around a server timeout issue"
   ]
  },
  {
   "cell_type": "code",
   "execution_count": 1,
   "metadata": {},
   "outputs": [],
   "source": [
    "import numpy as np\n",
    "import pandas as pd\n",
    "import xarray as xr\n",
    "import dask.array as da\n",
    "\n",
    "from matplotlib import pyplot as plt\n",
    "%matplotlib inline"
   ]
  },
  {
   "cell_type": "markdown",
   "metadata": {},
   "source": [
    "Initialize the spatial and temporal limits for this analysis - will be applied to all datasets"
   ]
  },
  {
   "cell_type": "code",
   "execution_count": 2,
   "metadata": {},
   "outputs": [],
   "source": [
    "lat_min, lat_max = 65.479474, 68.708048\n",
    "lon_min, lon_max = -169.259880, -160.007140\n",
    "\n",
    "start_date = pd.datetime(2003,1,1)\n",
    "end_date = pd.datetime(2018,11,1)\n",
    "ddts = pd.date_range(start=start_date,end=end_date) #\"daily-date-times\""
   ]
  },
  {
   "cell_type": "markdown",
   "metadata": {},
   "source": [
    "------------"
   ]
  },
  {
   "cell_type": "markdown",
   "metadata": {},
   "source": [
    "# MODIS SST\n",
    "\n",
    "Pulling MODIS sst data from https://opendap.jpl.nasa.gov/opendap/OceanTemperature/modis/L3/aqua/11um/v2014.0/4km/daily/contents.html\n",
    "\n",
    "Filename conventions found at: ftp://podaac-ftp.jpl.nasa.gov/allData/modis/L3/docs/modis_fileinfo.txt"
   ]
  },
  {
   "cell_type": "code",
   "execution_count": 3,
   "metadata": {},
   "outputs": [],
   "source": [
    "#create list of MODIS SST OpenDAP urls for all days in ddts\n",
    "url_day = []\n",
    "url_night = []\n",
    "for day in ddts:\n",
    "    yearday = day.strftime('%j')\n",
    "    year = day.strftime('%Y')\n",
    "    url_day.append(f'https://opendap.jpl.nasa.gov/opendap/OceanTemperature/modis/L3/aqua/11um/v2014.0/4km/daily/{year}/{yearday}/A{year}{yearday}.L3m_DAY_SST_sst_4km.nc')\n",
    "    url_night.append(f'https://opendap.jpl.nasa.gov/opendap/OceanTemperature/modis/L3/aqua/11um/v2014.0/4km/daily/{year}/{yearday}/A{year}{yearday}.L3m_DAY_NSST_sst_4km.nc')\n",
    " "
   ]
  },
  {
   "cell_type": "code",
   "execution_count": 19,
   "metadata": {},
   "outputs": [],
   "source": [
    "#Write a for loop to generate urls. Iterate through years and days 1-365, then throw a conditional at the end of it for the leap years. \n",
    "url_day = []\n",
    "url_night = []\n",
    "years = np.arange(2003, 2019)\n",
    "for year in years:\n",
    "    #we have 4 cases for the days: 1-digit, 2-digit, 3-digit, and leap year\n",
    "    for day in np.arange(1,10):   \n",
    "        url_day.append(f'https://opendap.jpl.nasa.gov/opendap/OceanTemperature/modis/L3/aqua/11um/v2014.0/4km/daily/{year}/00{day}/A{year}00{day}.L3m_DAY_SST_sst_4km.nc')\n",
    "        url_night.append(f'https://opendap.jpl.nasa.gov/opendap/OceanTemperature/modis/L3/aqua/11um/v2014.0/4km/daily/{year}/00{day}/A{year}00{day}.L3m_DAY_NSST_sst_4km.nc')\n",
    "    \n",
    "    for day in np.arange(10,100):\n",
    "        url_day.append(f'https://opendap.jpl.nasa.gov/opendap/OceanTemperature/modis/L3/aqua/11um/v2014.0/4km/daily/{year}/0{day}/A{year}0{day}.L3m_DAY_SST_sst_4km.nc')\n",
    "        url_night.append(f'https://opendap.jpl.nasa.gov/opendap/OceanTemperature/modis/L3/aqua/11um/v2014.0/4km/daily/{year}/0{day}/A{year}0{day}.L3m_DAY_NSST_sst_4km.nc')\n",
    "    \n",
    "    for day in np.arange(100,366):\n",
    "        url_day.append(f'https://opendap.jpl.nasa.gov/opendap/OceanTemperature/modis/L3/aqua/11um/v2014.0/4km/daily/{year}/{day}/A{year}{day}.L3m_DAY_SST_sst_4km.nc')\n",
    "        url_night.append(f'https://opendap.jpl.nasa.gov/opendap/OceanTemperature/modis/L3/aqua/11um/v2014.0/4km/daily/{year}/{day}/A{year}{day}.L3m_DAY_NSST_sst_4km.nc')\n",
    "    \n",
    "    if year==2004 or year==2008 or year==2012 or year==2016:\n",
    "        url_day.append(f'https://opendap.jpl.nasa.gov/opendap/OceanTemperature/modis/L3/aqua/11um/v2014.0/4km/daily/{year}/366/A{year}366.L3m_DAY_SST_sst_4km.nc')\n",
    "        url_night.append(f'https://opendap.jpl.nasa.gov/opendap/OceanTemperature/modis/L3/aqua/11um/v2014.0/4km/daily/{year}/366/A{year}366.L3m_DAY_NSST_sst_4km.nc')"
   ]
  },
  {
   "cell_type": "code",
   "execution_count": 67,
   "metadata": {},
   "outputs": [],
   "source": []
  },
  {
   "cell_type": "code",
   "execution_count": 70,
   "metadata": {},
   "outputs": [],
   "source": []
  },
  {
   "cell_type": "code",
   "execution_count": 75,
   "metadata": {},
   "outputs": [
    {
     "name": "stderr",
     "output_type": "stream",
     "text": [
      "100%|██████████| 5783/5783 [4:24:36<00:00,  3.68s/it]\n"
     ]
    },
    {
     "data": {
      "text/plain": [
       "<xarray.Dataset>\n",
       "Dimensions:   (eightbitcolor: 256, lat: 77, lon: 222, rgb: 3, time: 5784)\n",
       "Coordinates:\n",
       "  * lat       (lat) float32 68.68749 68.64583 68.604164 68.56249 68.52083 ...\n",
       "  * lon       (lon) float32 -169.22917 -169.1875 -169.14584 -169.10417 ...\n",
       "  * time      (time) datetime64[ns] 2003-01-01T13:30:05 2003-01-02T13:35:05 ...\n",
       "Dimensions without coordinates: eightbitcolor, rgb\n",
       "Data variables:\n",
       "    palette   (time, rgb, eightbitcolor) int8 91 10 118 99 9 -117 112 7 -85 ...\n",
       "    sst       (time, lat, lon) float32 nan nan nan nan nan nan nan nan nan ...\n",
       "    qual_sst  (time, lat, lon) float32 nan nan nan nan nan nan nan nan nan ..."
      ]
     },
     "execution_count": 75,
     "metadata": {},
     "output_type": "execute_result"
    }
   ],
   "source": [
    "#DAYTIME IMPORTING\n",
    "#import and slice the first one before getting into a for loop\n",
    "sst_mod_day = xr.open_dataset(url_day[0]).sel(lat=slice(lat_max,lat_min), lon=slice(lon_min,lon_max)) #latitude variable is monotonically decreasing from 90 down.\n",
    "#add new time dimensional coordinate\n",
    "startTime = pd.to_datetime(sst_mod_day.attrs['time_coverage_start'])\n",
    "endTime = pd.to_datetime(sst_mod_day.attrs['time_coverage_end'])\n",
    "midTime = (endTime - startTime)/2 + startTime\n",
    "sst_mod_day = sst_mod_day.assign_coords(time=midTime)\n",
    "sst_mod_day = sst_mod_day.expand_dims('time')\n",
    "\n",
    "#now do the rest of them in a for loop\n",
    "from tqdm import tqdm #progress bar for sanity\n",
    "for url in tqdm(url_day[1:]):\n",
    "    #import and slice\n",
    "    ds_day = xr.open_dataset(url).sel(lat=slice(lat_max,lat_min), lon=slice(lon_min,lon_max)) #latitude variable is monotonically decreasing from 90 down.\n",
    "    #add new time dimensional coordinate\n",
    "    startTime = pd.to_datetime(ds_day.attrs['time_coverage_start'])\n",
    "    endTime = pd.to_datetime(ds_day.attrs['time_coverage_end'])\n",
    "    midTime = (endTime - startTime)/2 + startTime\n",
    "    ds_day = ds_day.assign_coords(time=midTime)\n",
    "    ds_day = ds_day.expand_dims('time')    \n",
    "    \n",
    "    sst_mod_day = xr.auto_combine([sst_mod_day,ds_day],concat_dim='time')\n",
    "\n",
    "sst_mod_day\n",
    "    "
   ]
  },
  {
   "cell_type": "code",
   "execution_count": 77,
   "metadata": {},
   "outputs": [],
   "source": [
    "sst_mod_day.to_netcdf(path='sst_modis_day.nc')"
   ]
  },
  {
   "cell_type": "markdown",
   "metadata": {},
   "source": [
    "### All Importing Above can be skipped by running the below line"
   ]
  },
  {
   "cell_type": "code",
   "execution_count": 4,
   "metadata": {},
   "outputs": [
    {
     "data": {
      "text/plain": [
       "<xarray.Dataset>\n",
       "Dimensions:   (eightbitcolor: 256, lat: 77, lon: 222, rgb: 3, time: 5784)\n",
       "Coordinates:\n",
       "  * lat       (lat) float32 68.68749 68.64583 68.604164 68.56249 68.52083 ...\n",
       "  * lon       (lon) float32 -169.22917 -169.1875 -169.14584 -169.10417 ...\n",
       "  * time      (time) datetime64[ns] 2003-01-01T13:30:05 2003-01-02T13:35:05 ...\n",
       "Dimensions without coordinates: eightbitcolor, rgb\n",
       "Data variables:\n",
       "    palette   (time, rgb, eightbitcolor) int8 ...\n",
       "    sst       (time, lat, lon) float32 ...\n",
       "    qual_sst  (time, lat, lon) float32 ..."
      ]
     },
     "execution_count": 4,
     "metadata": {},
     "output_type": "execute_result"
    }
   ],
   "source": [
    "sst_mod_day = xr.open_dataset('sst_modis_day.nc')\n",
    "sst_mod_day"
   ]
  },
  {
   "cell_type": "markdown",
   "metadata": {},
   "source": [
    "### Making the files yearly so that they're small enough for github:"
   ]
  },
  {
   "cell_type": "code",
   "execution_count": 7,
   "metadata": {},
   "outputs": [],
   "source": [
    "sst_mod_day_yearly = sst_mod_day.groupby('time.year')\n",
    "for key, group in sst_mod_day_yearly:\n",
    "    group.to_netcdf(path=f'sst_modis_day_{key}.nc')"
   ]
  },
  {
   "cell_type": "code",
   "execution_count": 4,
   "metadata": {},
   "outputs": [
    {
     "data": {
      "text/plain": [
       "['sst_modis_day_2003.nc',\n",
       " 'sst_modis_day_2004.nc',\n",
       " 'sst_modis_day_2005.nc',\n",
       " 'sst_modis_day_2006.nc',\n",
       " 'sst_modis_day_2007.nc',\n",
       " 'sst_modis_day_2008.nc',\n",
       " 'sst_modis_day_2009.nc',\n",
       " 'sst_modis_day_2010.nc',\n",
       " 'sst_modis_day_2011.nc',\n",
       " 'sst_modis_day_2012.nc',\n",
       " 'sst_modis_day_2013.nc',\n",
       " 'sst_modis_day_2014.nc',\n",
       " 'sst_modis_day_2015.nc',\n",
       " 'sst_modis_day_2016.nc',\n",
       " 'sst_modis_day_2017.nc',\n",
       " 'sst_modis_day_2018.nc']"
      ]
     },
     "execution_count": 4,
     "metadata": {},
     "output_type": "execute_result"
    }
   ],
   "source": [
    "modis_files = []\n",
    "for year in np.arange(2003,2019):\n",
    "    modis_files.append(f'sst_modis_day_{year}.nc')\n",
    "modis_files"
   ]
  },
  {
   "cell_type": "code",
   "execution_count": 5,
   "metadata": {},
   "outputs": [
    {
     "data": {
      "text/plain": [
       "<xarray.Dataset>\n",
       "Dimensions:   (eightbitcolor: 256, lat: 77, lon: 222, rgb: 3, time: 5784)\n",
       "Coordinates:\n",
       "  * lat       (lat) float32 68.68749 68.64583 68.604164 68.56249 68.52083 ...\n",
       "  * lon       (lon) float32 -169.22917 -169.1875 -169.14584 -169.10417 ...\n",
       "  * time      (time) datetime64[ns] 2003-01-01T13:30:05 2003-01-02T13:35:05 ...\n",
       "Dimensions without coordinates: eightbitcolor, rgb\n",
       "Data variables:\n",
       "    palette   (time, rgb, eightbitcolor) int8 dask.array<shape=(5784, 3, 256), chunksize=(365, 3, 256)>\n",
       "    sst       (time, lat, lon) float32 dask.array<shape=(5784, 77, 222), chunksize=(365, 77, 222)>\n",
       "    qual_sst  (time, lat, lon) float32 dask.array<shape=(5784, 77, 222), chunksize=(365, 77, 222)>"
      ]
     },
     "execution_count": 5,
     "metadata": {},
     "output_type": "execute_result"
    }
   ],
   "source": [
    "sst_mod_day = xr.open_mfdataset(modis_files)\n",
    "sst_mod_day"
   ]
  },
  {
   "cell_type": "markdown",
   "metadata": {},
   "source": [
    "--------------"
   ]
  },
  {
   "cell_type": "markdown",
   "metadata": {},
   "source": [
    "# Reynolds SST and Sea Ice Concentration\n",
    "\n",
    "Data Access: https://www.ncei.noaa.gov/thredds/catalog/OisstBase/NetCDF/AVHRR/catalog.html"
   ]
  },
  {
   "cell_type": "code",
   "execution_count": 5,
   "metadata": {},
   "outputs": [],
   "source": [
    "#create list of Reynolds SST OpenDAP urls for all days in ddts\n",
    "url_rey = []\n",
    "for day in ddts:\n",
    "    yearmonth = day.strftime('%Y%m')\n",
    "    yearmonthday = day.strftime('%Y%m%d')\n",
    "    url_rey.append(f'http://www.ncei.noaa.gov/thredds/dodsC/OisstBase/NetCDF/AVHRR/{yearmonth}/avhrr-only-v2.{yearmonthday}.nc')"
   ]
  },
  {
   "cell_type": "code",
   "execution_count": 6,
   "metadata": {},
   "outputs": [
    {
     "data": {
      "text/plain": [
       "<matplotlib.collections.QuadMesh at 0x7fd982a135c0>"
      ]
     },
     "execution_count": 6,
     "metadata": {},
     "output_type": "execute_result"
    },
    {
     "data": {
      "image/png": "[encoded data removed]",
      "text/plain": [
       "<Figure size 432x288 with 2 Axes>"
      ]
     },
     "metadata": {},
     "output_type": "display_data"
    }
   ],
   "source": [
    "reynolds = xr.open_dataset(url_rey[3000])\n",
    "reynolds.sel(lat=slice(lat_min,lat_max), lon=slice((lon_min+360)%360, (lon_max+360)%360)).sst.plot() #lon values are 0-360 in this dataset"
   ]
  },
  {
   "cell_type": "code",
   "execution_count": null,
   "metadata": {},
   "outputs": [],
   "source": [
    "sst_rey = xr.open_dataset(url_rey[0]).sel(lat=slice(lat_min,lat_max), lon=slice((lon_min+360)%360, (lon_max+360)%360)) #lon values are 0-360 in this dataset\n",
    "\n",
    "from tqdm import tqdm #progress bar for sanity\n",
    "\n",
    "for url in tqdm(url_rey[1:]):\n",
    "    ds_rey = xr.open_dataset(url).sel(lat=slice(lat_min,lat_max), lon=slice((lon_min+360)%360, (lon_max+360)%360))   \n",
    "    sst_rey = xr.auto_combine([sst_rey,ds_rey])\n",
    "    \n",
    "sst_rey\n",
    "    "
   ]
  },
  {
   "cell_type": "code",
   "execution_count": 26,
   "metadata": {},
   "outputs": [
    {
     "data": {
      "text/plain": [
       "<xarray.Dataset>\n",
       "Dimensions:  (lat: 13, lon: 37, time: 5783, zlev: 1)\n",
       "Coordinates:\n",
       "  * zlev     (zlev) float32 0.0\n",
       "  * lat      (lat) float32 65.625 65.875 66.125 66.375 66.625 66.875 67.125 ...\n",
       "  * lon      (lon) float32 190.875 191.125 191.375 191.625 191.875 192.125 ...\n",
       "  * time     (time) datetime64[ns] 2003-01-01 2003-01-02 2003-01-03 ...\n",
       "Data variables:\n",
       "    sst      (time, zlev, lat, lon) float32 -1.13 -1.11 -1.09 -1.03 ...\n",
       "    anom     (time, zlev, lat, lon) float32 0.04 0.049999997 0.07 0.12 0.21 ...\n",
       "    err      (time, zlev, lat, lon) float32 0.13 0.13 0.13 0.13 0.13 nan nan ...\n",
       "    ice      (time, zlev, lat, lon) float32 0.85999995 0.85999995 0.82 0.83 ..."
      ]
     },
     "execution_count": 26,
     "metadata": {},
     "output_type": "execute_result"
    }
   ],
   "source": [
    "sst_rey"
   ]
  },
  {
   "cell_type": "code",
   "execution_count": 33,
   "metadata": {},
   "outputs": [],
   "source": [
    "sst_rey.to_netcdf(path='sst_reynolds.nc')"
   ]
  },
  {
   "cell_type": "markdown",
   "metadata": {},
   "source": [
    "### All Importing Above can be skipped by running the below line"
   ]
  },
  {
   "cell_type": "code",
   "execution_count": null,
   "metadata": {},
   "outputs": [],
   "source": [
    "sst_rey = xr.open_dataset('sst_reynolds.nc')"
   ]
  },
  {
   "cell_type": "markdown",
   "metadata": {},
   "source": [
    "-------------"
   ]
  },
  {
   "cell_type": "markdown",
   "metadata": {},
   "source": [
    "## SSM/I Sea Ice Concentration"
   ]
  },
  {
   "cell_type": "code",
   "execution_count": 4,
   "metadata": {},
   "outputs": [],
   "source": [
    "url_ssmi = ['http://icdc.cen.uni-hamburg.de/thredds/dodsC/ssmi_asi_icecon_arc2003',\n",
    "            'http://icdc.cen.uni-hamburg.de/thredds/dodsC/ssmi_asi_icecon_arc2004',\n",
    "            'http://icdc.cen.uni-hamburg.de/thredds/dodsC/ssmi_asi_icecon_arc2005',\n",
    "            'http://icdc.cen.uni-hamburg.de/thredds/dodsC/ssmi_asi_icecon_arc2006',\n",
    "            'http://icdc.cen.uni-hamburg.de/thredds/dodsC/ssmi_asi_icecon_arc2007',\n",
    "            'http://icdc.cen.uni-hamburg.de/thredds/dodsC/ssmi_asi_icecon_arc2008',\n",
    "            'http://icdc.cen.uni-hamburg.de/thredds/dodsC/ssmi_asi_icecon_arc2009',\n",
    "            'http://icdc.cen.uni-hamburg.de/thredds/dodsC/ssmi_asi_icecon_arc2010',\n",
    "            'http://icdc.cen.uni-hamburg.de/thredds/dodsC/ssmi_asi_icecon_arc2011',\n",
    "            'http://icdc.cen.uni-hamburg.de/thredds/dodsC/ssmi_asi_icecon_arc2012',\n",
    "            'http://icdc.cen.uni-hamburg.de/thredds/dodsC/ssmi_asi_icecon_arc2013',\n",
    "            'http://icdc.cen.uni-hamburg.de/thredds/dodsC/ssmi_asi_icecon_arc2014',\n",
    "            'http://icdc.cen.uni-hamburg.de/thredds/dodsC/ssmi_asi_icecon_arc2015',\n",
    "            'http://icdc.cen.uni-hamburg.de/thredds/dodsC/ssmi_asi_icecon_arc2016',\n",
    "            'http://icdc.cen.uni-hamburg.de/thredds/dodsC/ssmi_asi_icecon_arc2017',\n",
    "            'http://icdc.cen.uni-hamburg.de/thredds/dodsC/ssmi_asi_icecon_arc2018']"
   ]
  },
  {
   "cell_type": "code",
   "execution_count": 5,
   "metadata": {},
   "outputs": [
    {
     "name": "stderr",
     "output_type": "stream",
     "text": [
      "/opt/conda/lib/python3.6/site-packages/xarray/conventions.py:362: SerializationWarning: variable 'sea_ice_area_fraction' has multiple fill values {101, 103}, decoding all values to NaN.\n",
      "  stack_char_dim=stack_char_dim)\n"
     ]
    }
   ],
   "source": [
    "si = xr.open_mfdataset(url_ssmi)"
   ]
  },
  {
   "cell_type": "code",
   "execution_count": 6,
   "metadata": {},
   "outputs": [
    {
     "data": {
      "text/plain": [
       "<xarray.Dataset>\n",
       "Dimensions:                (time: 5783, x: 37, y: 33)\n",
       "Coordinates:\n",
       "    latitude               (y, x) float32 66.106 66.206 66.306 66.405 66.505 ...\n",
       "    longitude              (y, x) float32 199.472 199.354 199.234 199.114 ...\n",
       "  * time                   (time) datetime64[ns] 2003-01-01T12:00:00 ...\n",
       "Dimensions without coordinates: x, y\n",
       "Data variables:\n",
       "    sea_ice_area_fraction  (time, y, x) float32 dask.array<shape=(5783, 33, 37), chunksize=(365, 33, 37)>\n",
       "    land                   (time, y, x) float64 dask.array<shape=(5783, 33, 37), chunksize=(365, 33, 37)>\n",
       "Attributes:\n",
       "    Conventions:               CF-1.5\n",
       "    long_name:                 Sea-ice concentration as observed by SSM/I\n",
       "    short_name:                PSI-F13-Concentration\n",
       "    producer_agency:           IFREMER\n",
       "    producer_institution:      CERSAT\n",
       "    modification_institution:  CliSAP\n",
       "    modification1:             5-day median filter\n",
       "    modification2:             spatial and temporal interpolation\n",
       "    time_resolution:           daily\n",
       "    grid:                      NSIDC\n",
       "    pole:                      north\n",
       "    spatial_resolution:        12.5 km\n",
       "    platform_id:               F13\n",
       "    instrument:                SSM/I\n",
       "    Creation_date:             2013-02-05\n",
       "    netCDF_created_by:         Stefan Kern\n",
       "    Created_with:              IDL-routine asi_interpol.pro"
      ]
     },
     "execution_count": 6,
     "metadata": {},
     "output_type": "execute_result"
    }
   ],
   "source": [
    "ssmi = si.where(\n",
    "    si.latitude>lat_min).where(\n",
    "    si.latitude<lat_max).where(\n",
    "    si.longitude>(lon_min+360)%360).where( #lon values are 0-360\n",
    "    si.longitude<(lon_max+360)%360).sel(x=slice(118,155),\n",
    "                                        y=slice(518,551))  #the where commands mask the dataset, slicing x and y keeps us from carrying all the masked points along with us\n",
    "ssmi"
   ]
  },
  {
   "cell_type": "markdown",
   "metadata": {},
   "source": [
    "Takes 3+ minutes to compute a single day:"
   ]
  },
  {
   "cell_type": "code",
   "execution_count": 10,
   "metadata": {},
   "outputs": [
    {
     "name": "stdout",
     "output_type": "stream",
     "text": [
      "[########################################] | 100% Completed |  3min  5.0s\n"
     ]
    }
   ],
   "source": [
    "with ProgressBar():\n",
    "    ssmi_ex = ssmi.sea_ice_area_fraction.sel(time='2018-04-30').compute()"
   ]
  },
  {
   "cell_type": "markdown",
   "metadata": {},
   "source": [
    "We'll save this single day to use as our example plot of spatial extent:"
   ]
  },
  {
   "cell_type": "code",
   "execution_count": 11,
   "metadata": {},
   "outputs": [],
   "source": [
    "ssmi_ex.to_netcdf(path='ssmi_ex.nc') "
   ]
  },
  {
   "cell_type": "code",
   "execution_count": 7,
   "metadata": {},
   "outputs": [
    {
     "data": {
      "text/plain": [
       "<xarray.DataArray 'sea_ice_area_fraction' (time: 5783, y: 33, x: 37)>\n",
       "dask.array<shape=(5783, 33, 37), dtype=float32, chunksize=(1, 33, 37)>\n",
       "Coordinates:\n",
       "    latitude   (y, x) float32 dask.array<shape=(33, 37), chunksize=(33, 37)>\n",
       "    longitude  (y, x) float32 dask.array<shape=(33, 37), chunksize=(33, 37)>\n",
       "  * time       (time) datetime64[ns] 2003-01-01T12:00:00 2003-01-02T12:00:00 ...\n",
       "Dimensions without coordinates: y, x\n",
       "Attributes:\n",
       "    standard_name:  sea_ice_area_fraction\n",
       "    long_name:      sea-ice concentration\n",
       "    units:          percent"
      ]
     },
     "execution_count": 7,
     "metadata": {},
     "output_type": "execute_result"
    }
   ],
   "source": [
    "seaice = ssmi.sea_ice_area_fraction.chunk(chunks=(1,33,37))\n",
    "seaice"
   ]
  },
  {
   "cell_type": "markdown",
   "metadata": {},
   "source": [
    "I did this year by year and saved each year independently - it was the only way to get the server to fulfill my requests without timing out:"
   ]
  },
  {
   "cell_type": "code",
   "execution_count": 16,
   "metadata": {},
   "outputs": [
    {
     "name": "stdout",
     "output_type": "stream",
     "text": [
      "[########################################] | 100% Completed |  9.1s\n"
     ]
    },
    {
     "data": {
      "text/plain": [
       "<xarray.DataArray 'sea_ice_area_fraction' (time: 304)>\n",
       "array([61.856823, 65.373604, 70.60626 , ...,  0.187919,  0.187919,  0.248322],\n",
       "      dtype=float32)\n",
       "Coordinates:\n",
       "  * time     (time) datetime64[ns] 2018-01-01T12:00:00 2018-01-02T12:00:00 ..."
      ]
     },
     "execution_count": 16,
     "metadata": {},
     "output_type": "execute_result"
    }
   ],
   "source": [
    "with ProgressBar():\n",
    "    seaice1y = seaice[5479:].mean(dim={'x','y'}).compute()\n",
    "    \n",
    "seaice1y"
   ]
  },
  {
   "cell_type": "code",
   "execution_count": 18,
   "metadata": {},
   "outputs": [],
   "source": [
    "seaice1y.to_netcdf(path='seaice18.nc')"
   ]
  },
  {
   "cell_type": "markdown",
   "metadata": {},
   "source": [
    "Now I can reimport the yearly files as a multi-file dataset:"
   ]
  },
  {
   "cell_type": "code",
   "execution_count": 21,
   "metadata": {},
   "outputs": [
    {
     "data": {
      "text/plain": [
       "[<matplotlib.lines.Line2D at 0x7f8d7c105e10>]"
      ]
     },
     "execution_count": 21,
     "metadata": {},
     "output_type": "execute_result"
    },
    {
     "data": {
      "image/png": "[encoded data removed]",
      "text/plain": [
       "<Figure size 432x288 with 1 Axes>"
      ]
     },
     "metadata": {},
     "output_type": "display_data"
    }
   ],
   "source": [
    "si_nc_list = ['seaice03.nc',\n",
    "              'seaice04.nc',\n",
    "              'seaice05.nc',\n",
    "              'seaice06.nc',\n",
    "              'seaice07.nc',\n",
    "              'seaice08.nc',\n",
    "              'seaice09.nc',\n",
    "              'seaice10.nc',\n",
    "              'seaice11.nc',\n",
    "              'seaice12.nc',\n",
    "              'seaice13.nc',\n",
    "              'seaice14.nc',\n",
    "              'seaice15.nc',\n",
    "              'seaice16.nc',\n",
    "              'seaice17.nc',\n",
    "              'seaice18.nc']\n",
    "seaice_all = xr.open_mfdataset(si_nc_list)\n",
    "seaice_all.sea_ice_area_fraction.plot()"
   ]
  },
  {
   "cell_type": "markdown",
   "metadata": {},
   "source": [
    "Then I went ahead and re-saved all the years together into one netCDF file:"
   ]
  },
  {
   "cell_type": "code",
   "execution_count": 22,
   "metadata": {},
   "outputs": [],
   "source": [
    "seaice_all.to_netcdf(path='seaice_all.nc')"
   ]
  }
 ],
 "metadata": {
  "kernelspec": {
   "display_name": "Python 3",
   "language": "python",
   "name": "python3"
  },
  "language_info": {
   "codemirror_mode": {
    "name": "ipython",
    "version": 3
   },
   "file_extension": ".py",
   "mimetype": "text/x-python",
   "name": "python",
   "nbconvert_exporter": "python",
   "pygments_lexer": "ipython3",
   "version": "3.6.6"
  }
 },
 "nbformat": 4,
 "nbformat_minor": 2
}
